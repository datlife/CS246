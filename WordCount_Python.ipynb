{
 "cells": [
  {
   "cell_type": "code",
   "execution_count": null,
   "metadata": {},
   "outputs": [],
   "source": [
    "TEXT_FILE = 'hw0-bundle/pg100.txt'"
   ]
  },
  {
   "cell_type": "code",
   "execution_count": null,
   "metadata": {},
   "outputs": [],
   "source": [
    "import re\n",
    "import sys\n",
    "from pyspark import SparkConf, SparkContext\n",
    "\n",
    "conf = SparkConf()\n",
    "sc = SparkContext(conf=conf)\n",
    "\n",
    "lines = sc.textFile(TEXT_FILE)\n",
    "\n",
    "# 1. MAP: Convert each line into array of words\n",
    "words = lines.flatMap(lambda i: re.split(r'[^\\w]+', i))\n",
    "\n",
    "# In order to make each word into a new element in RDD. \n",
    "# Create a key-value pair as a tuple\n",
    "pairs = words.map(lambda w: (w, 1))\n",
    "\n",
    "# 2. REDUCE\n",
    "counts = pairs.reduceByKey(lambda x, y: x + y)\n",
    "\n",
    "# Export Result\n",
    "counts.saveAsTextFile('output')\n",
    "sc.stop()"
   ]
  }
 ],
 "metadata": {
  "kernelspec": {
   "display_name": "Python 3",
   "language": "python",
   "name": "python3"
  },
  "language_info": {
   "codemirror_mode": {
    "name": "ipython",
    "version": 3
   },
   "file_extension": ".py",
   "mimetype": "text/x-python",
   "name": "python",
   "nbconvert_exporter": "python",
   "pygments_lexer": "ipython3",
   "version": "3.6.7"
  }
 },
 "nbformat": 4,
 "nbformat_minor": 2
}
